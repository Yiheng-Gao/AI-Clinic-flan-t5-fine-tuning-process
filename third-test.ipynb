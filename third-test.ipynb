{
 "cells": [
  {
   "cell_type": "code",
   "execution_count": 1,
   "metadata": {},
   "outputs": [
    {
     "name": "stderr",
     "output_type": "stream",
     "text": [
      "c:\\Users\\User\\miniconda3\\envs\\transformers\\lib\\site-packages\\tqdm\\auto.py:21: TqdmWarning: IProgress not found. Please update jupyter and ipywidgets. See https://ipywidgets.readthedocs.io/en/stable/user_install.html\n",
      "  from .autonotebook import tqdm as notebook_tqdm\n",
      "Special tokens have been added in the vocabulary, make sure the associated word embeddings are fine-tuned or trained.\n"
     ]
    },
    {
     "name": "stdout",
     "output_type": "stream",
     "text": [
      "Cysticercosis is a parasite that causes the body to become infected with cysticercosis. It can be\n",
      "found on any surface of your skin, including inside or outside your mouth and nose. The larval eggs\n",
      "are usually small (about 1 inch) long, which means they have no signs or symptoms. They may also\n",
      "grow into other areas of your face, such as your feet, ankles, legs, arms, hands, knees, elbows,\n",
      "hips, chest muscles, neck, back, abdomen, pelvic floor, stomach, liver, kidneys, bladder, and\n",
      "urinary tract. Infections can occur at birth or in children.\n"
     ]
    }
   ],
   "source": [
    "from transformers import T5ForConditionalGeneration, T5Tokenizer\n",
    "last_checkpoint = \"./third-results/checkpoint-4000\"\n",
    "\n",
    "finetuned_model = T5ForConditionalGeneration.from_pretrained(last_checkpoint).to(\"cuda\")\n",
    "finetuned_tokenizer = T5Tokenizer.from_pretrained(last_checkpoint)\n",
    "question=\"What is (are) Parasites - Cysticercosis ?\"\n",
    "prefix = \"Please answer this medical related question: \"\n",
    "\n",
    "input_text = prefix+question\n",
    "input_ids = finetuned_tokenizer(input_text, return_tensors=\"pt\").input_ids.to(\"cuda\")\n",
    "\n",
    "outputs = finetuned_model.generate(\n",
    "    input_ids,\n",
    " \n",
    "    max_new_tokens=200,\n",
    "    repetition_penalty=2.0\n",
    ")\n",
    "answer = finetuned_tokenizer.decode(outputs[0], skip_special_tokens=True)\n",
    "from textwrap import fill\n",
    "\n",
    "print(fill(answer, width=100))"
   ]
  }
 ],
 "metadata": {
  "kernelspec": {
   "display_name": "transformers",
   "language": "python",
   "name": "python3"
  },
  "language_info": {
   "codemirror_mode": {
    "name": "ipython",
    "version": 3
   },
   "file_extension": ".py",
   "mimetype": "text/x-python",
   "name": "python",
   "nbconvert_exporter": "python",
   "pygments_lexer": "ipython3",
   "version": "3.9.19"
  }
 },
 "nbformat": 4,
 "nbformat_minor": 2
}
