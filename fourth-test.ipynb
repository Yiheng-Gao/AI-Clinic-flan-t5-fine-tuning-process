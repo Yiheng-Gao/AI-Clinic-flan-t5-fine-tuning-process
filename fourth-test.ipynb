{
 "cells": [
  {
   "cell_type": "code",
   "execution_count": 2,
   "metadata": {},
   "outputs": [
    {
     "name": "stderr",
     "output_type": "stream",
     "text": [
      "Special tokens have been added in the vocabulary, make sure the associated word embeddings are fine-tuned or trained.\n"
     ]
    },
    {
     "name": "stdout",
     "output_type": "stream",
     "text": [
      "Cysticercosis is a rare disease that occurs in the skin, eyes and mouth. It can be caused by\n",
      "bacteria or viruses from other parts of the body. The most common type of cysticercosis is an\n",
      "infection with certain types of parasites called microcephaly (microcystis). Microcephaly is usually\n",
      "found on either side of the face, neck, abdomen, pelvis, chest, hips, legs, arms, hands, feet,\n",
      "ankles, elbows, knees, upper back, stomach, liver, kidneys, bladder, urinary tract, and/or lymph\n",
      "nodes. Infections are often treated with antibiotics to treat infections.\n"
     ]
    }
   ],
   "source": [
    "from transformers import T5ForConditionalGeneration, T5Tokenizer\n",
    "last_checkpoint = \"./fourth-results/checkpoint-1500\"\n",
    "\n",
    "finetuned_model = T5ForConditionalGeneration.from_pretrained(last_checkpoint).to(\"cuda\")\n",
    "finetuned_tokenizer = T5Tokenizer.from_pretrained(last_checkpoint)\n",
    "question=\"What is (are) Parasites - Cysticercosis ?\"\n",
    "prefix = \"Please answer this medical related question: \"\n",
    "\n",
    "input_text = prefix+question\n",
    "input_ids = finetuned_tokenizer(input_text, return_tensors=\"pt\").input_ids.to(\"cuda\")\n",
    "\n",
    "outputs = finetuned_model.generate(\n",
    "    input_ids,\n",
    " \n",
    "    max_new_tokens=200,\n",
    "    repetition_penalty=2.0\n",
    ")\n",
    "answer = finetuned_tokenizer.decode(outputs[0], skip_special_tokens=True)\n",
    "from textwrap import fill\n",
    "\n",
    "print(fill(answer, width=100))"
   ]
  }
 ],
 "metadata": {
  "kernelspec": {
   "display_name": "transformers",
   "language": "python",
   "name": "python3"
  },
  "language_info": {
   "codemirror_mode": {
    "name": "ipython",
    "version": 3
   },
   "file_extension": ".py",
   "mimetype": "text/x-python",
   "name": "python",
   "nbconvert_exporter": "python",
   "pygments_lexer": "ipython3",
   "version": "3.9.19"
  }
 },
 "nbformat": 4,
 "nbformat_minor": 2
}
