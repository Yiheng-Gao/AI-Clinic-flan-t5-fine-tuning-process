{
 "cells": [
  {
   "cell_type": "code",
   "execution_count": 1,
   "metadata": {},
   "outputs": [
    {
     "name": "stderr",
     "output_type": "stream",
     "text": [
      "c:\\Users\\User\\miniconda3\\envs\\transformers\\lib\\site-packages\\tqdm\\auto.py:21: TqdmWarning: IProgress not found. Please update jupyter and ipywidgets. See https://ipywidgets.readthedocs.io/en/stable/user_install.html\n",
      "  from .autonotebook import tqdm as notebook_tqdm\n",
      "Special tokens have been added in the vocabulary, make sure the associated word embeddings are fine-tuned or trained.\n"
     ]
    },
    {
     "name": "stdout",
     "output_type": "stream",
     "text": [
      "Hello, I have studied your case. As per the history you are having pain in leg it is very common to get a fracture of ankle joint due to injury or compression on nerve root leading to ligament damage\n",
      "and this can be treated with analgesics like diclofenac twice daily for 5 days after meals as advised by orthopedic surgeon who will examine you properly so that proper diagnosis may not occur but\n",
      "also physical examination should help us know what kind of bone has been injured then we need further investigations done which include routine blood test including ultrasound abdomen etc... If there\n",
      "was any disc bulging around knee than no treatment needed.... Hope these answers your query Please feel free to ask me again anytime\n"
     ]
    }
   ],
   "source": [
    "from transformers import T5ForConditionalGeneration, T5Tokenizer\n",
    "last_checkpoint = \"./dataset2-results/checkpoint-21000\"\n",
    "\n",
    "finetuned_model = T5ForConditionalGeneration.from_pretrained(last_checkpoint).to(\"cuda\")\n",
    "finetuned_tokenizer = T5Tokenizer.from_pretrained(last_checkpoint)\n",
    "question=\"What should I do if I hurt my leg?\"\n",
    "prefix = \"If you are a doctor, please answer the medical questions based on the patient's description: \"\n",
    "\n",
    "input_text = prefix+question\n",
    "input_ids = finetuned_tokenizer(input_text, return_tensors=\"pt\").input_ids.to(\"cuda\")\n",
    "\n",
    "outputs = finetuned_model.generate(\n",
    "    input_ids,\n",
    "    max_length=200,\n",
    "    min_length=100,\n",
    "    repetition_penalty=2.0\n",
    ")\n",
    "answer = finetuned_tokenizer.decode(outputs[0], skip_special_tokens=True)\n",
    "from textwrap import fill\n",
    "\n",
    "print(fill(answer, width=200))"
   ]
  }
 ],
 "metadata": {
  "kernelspec": {
   "display_name": "transformers",
   "language": "python",
   "name": "python3"
  },
  "language_info": {
   "codemirror_mode": {
    "name": "ipython",
    "version": 3
   },
   "file_extension": ".py",
   "mimetype": "text/x-python",
   "name": "python",
   "nbconvert_exporter": "python",
   "pygments_lexer": "ipython3",
   "version": "3.9.19"
  }
 },
 "nbformat": 4,
 "nbformat_minor": 2
}
